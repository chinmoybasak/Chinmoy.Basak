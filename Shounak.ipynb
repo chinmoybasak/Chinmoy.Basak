{
  "nbformat": 4,
  "nbformat_minor": 0,
  "metadata": {
    "colab": {
      "name": "Shounak.ipynb",
      "provenance": [],
      "collapsed_sections": [],
      "authorship_tag": "ABX9TyPKgzssl3N0bAUV+zISjqtV",
      "include_colab_link": true
    },
    "kernelspec": {
      "name": "python3",
      "display_name": "Python 3"
    }
  },
  "cells": [
    {
      "cell_type": "markdown",
      "metadata": {
        "id": "view-in-github",
        "colab_type": "text"
      },
      "source": [
        "<a href=\"https://colab.research.google.com/github/chinmoybasak/Chinmoy.Basak/blob/master/Shounak.ipynb\" target=\"_parent\"><img src=\"https://colab.research.google.com/assets/colab-badge.svg\" alt=\"Open In Colab\"/></a>"
      ]
    },
    {
      "cell_type": "markdown",
      "metadata": {
        "id": "l8exrfUGOTcX",
        "colab_type": "text"
      },
      "source": [
        "## Need to get the reactants from Test file\n",
        "\n",
        "Test file\n",
        "Test.txt https://auburn.box.com/s/8diilpsq3ff9keiwy4k32p5jcg375tyr\n",
        "\n",
        "Problem: Unknown number of delimiter or reactant either 3 or 2\n",
        "\n",
        "ValueError: not enough values to unpack (expected 3, got 2)"
      ]
    },
    {
      "cell_type": "code",
      "metadata": {
        "id": "diN95B8yOFqQ",
        "colab_type": "code",
        "colab": {
          "base_uri": "https://localhost:8080/",
          "height": 235
        },
        "outputId": "1fc1de1d-29fc-4707-d8a1-34eaaf95f326"
      },
      "source": [
        "import re\n",
        "from io import StringIO\n",
        "with open('Test.txt') as f:\n",
        "    p = f.read()\n",
        "print(p)\n",
        "df12, df22, df32 = [], [], []\n",
        " \n",
        "for l in p.splitlines():\n",
        "    x, y,z= re.split(r\">+\", l)\n",
        "    df12.append(x.split(\".\"))\n",
        "    df22.append(y.split(\".\"))\n",
        "    df32.append(y.split(\".\"))\n",
        " \n",
        "print(pd.DataFrame(df12))\n",
        "print(pd.DataFrame(df22))"
      ],
      "execution_count": 1,
      "outputs": [
        {
          "output_type": "error",
          "ename": "FileNotFoundError",
          "evalue": "ignored",
          "traceback": [
            "\u001b[0;31m---------------------------------------------------------------------------\u001b[0m",
            "\u001b[0;31mFileNotFoundError\u001b[0m                         Traceback (most recent call last)",
            "\u001b[0;32m<ipython-input-1-b6b09863b905>\u001b[0m in \u001b[0;36m<module>\u001b[0;34m()\u001b[0m\n\u001b[1;32m      1\u001b[0m \u001b[0;32mimport\u001b[0m \u001b[0mre\u001b[0m\u001b[0;34m\u001b[0m\u001b[0;34m\u001b[0m\u001b[0m\n\u001b[1;32m      2\u001b[0m \u001b[0;32mfrom\u001b[0m \u001b[0mio\u001b[0m \u001b[0;32mimport\u001b[0m \u001b[0mStringIO\u001b[0m\u001b[0;34m\u001b[0m\u001b[0;34m\u001b[0m\u001b[0m\n\u001b[0;32m----> 3\u001b[0;31m \u001b[0;32mwith\u001b[0m \u001b[0mopen\u001b[0m\u001b[0;34m(\u001b[0m\u001b[0;34m'Test.txt'\u001b[0m\u001b[0;34m)\u001b[0m \u001b[0;32mas\u001b[0m \u001b[0mf\u001b[0m\u001b[0;34m:\u001b[0m\u001b[0;34m\u001b[0m\u001b[0;34m\u001b[0m\u001b[0m\n\u001b[0m\u001b[1;32m      4\u001b[0m     \u001b[0mp\u001b[0m \u001b[0;34m=\u001b[0m \u001b[0mf\u001b[0m\u001b[0;34m.\u001b[0m\u001b[0mread\u001b[0m\u001b[0;34m(\u001b[0m\u001b[0;34m)\u001b[0m\u001b[0;34m\u001b[0m\u001b[0;34m\u001b[0m\u001b[0m\n\u001b[1;32m      5\u001b[0m \u001b[0mprint\u001b[0m\u001b[0;34m(\u001b[0m\u001b[0mp\u001b[0m\u001b[0;34m)\u001b[0m\u001b[0;34m\u001b[0m\u001b[0;34m\u001b[0m\u001b[0m\n",
            "\u001b[0;31mFileNotFoundError\u001b[0m: [Errno 2] No such file or directory: 'Test.txt'"
          ]
        }
      ]
    }
  ]
}